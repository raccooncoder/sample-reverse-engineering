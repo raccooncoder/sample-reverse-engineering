{
 "cells": [
  {
   "cell_type": "code",
   "execution_count": 1,
   "metadata": {},
   "outputs": [
    {
     "name": "stderr",
     "output_type": "stream",
     "text": [
      "/home/raccooncoder/.venv/pytorch/lib/python3.7/site-packages/torchaudio/backend/utils.py:54: UserWarning: \"sox\" backend is being deprecated. The default backend will be changed to \"sox_io\" backend in 0.8.0 and \"sox\" backend will be removed in 0.9.0. Please migrate to \"sox_io\" backend. Please refer to https://github.com/pytorch/audio/issues/903 for the detail.\n",
      "  '\"sox\" backend is being deprecated. '\n"
     ]
    },
    {
     "name": "stdout",
     "output_type": "stream",
     "text": [
      "cuda:0\n"
     ]
    }
   ],
   "source": [
    "import torch\n",
    "import torchaudio\n",
    "from torch import nn\n",
    "import torch.nn.functional as F\n",
    "from torch.utils.data import DataLoader, Dataset\n",
    "from torch.autograd import Variable\n",
    "import torchvision\n",
    "from torchvision import transforms\n",
    "from torchvision.datasets import FashionMNIST\n",
    "import torchvision.models as models\n",
    "from PIL import Image\n",
    "from tqdm.notebook import tqdm\n",
    "\n",
    "import os\n",
    "import math\n",
    "import random\n",
    "import pandas as pd\n",
    "import numpy as np\n",
    "\n",
    "num_epochs = 30\n",
    "batch_size = 32\n",
    "\n",
    "# reproducibility\n",
    "def set_seed(seed):\n",
    "    torch.backends.cudnn.deterministic = True\n",
    "    torch.manual_seed(seed)\n",
    "    torch.cuda.manual_seed_all(seed)\n",
    "    np.random.seed(seed)\n",
    "    random.seed(seed)\n",
    "\n",
    "set_seed(13)\n",
    "\n",
    "device = torch.device(\"cuda:0\" if torch.cuda.is_available() else \"cpu\")\n",
    "torch.backends.cudnn.benchmark = True\n",
    "\n",
    "print(device)"
   ]
  },
  {
   "cell_type": "code",
   "execution_count": 2,
   "metadata": {
    "id": "PYiYKpOFBHgv"
   },
   "outputs": [],
   "source": [
    "data_path = 'dataset/'\n",
    "meta_path = 'metadata.csv'"
   ]
  },
  {
   "cell_type": "code",
   "execution_count": 3,
   "metadata": {
    "colab": {
     "base_uri": "https://localhost:8080/"
    },
    "id": "n81LnA2jGpQ4",
    "outputId": "d94f6819-7c09-4823-8078-fd41f26932c4"
   },
   "outputs": [
    {
     "data": {
      "text/plain": [
       "4000"
      ]
     },
     "execution_count": 3,
     "metadata": {},
     "output_type": "execute_result"
    }
   ],
   "source": [
    "import os\n",
    "\n",
    "len(os.listdir(data_path))"
   ]
  },
  {
   "cell_type": "code",
   "execution_count": 4,
   "metadata": {},
   "outputs": [
    {
     "data": {
      "text/html": [
       "<div>\n",
       "<style scoped>\n",
       "    .dataframe tbody tr th:only-of-type {\n",
       "        vertical-align: middle;\n",
       "    }\n",
       "\n",
       "    .dataframe tbody tr th {\n",
       "        vertical-align: top;\n",
       "    }\n",
       "\n",
       "    .dataframe thead th {\n",
       "        text-align: right;\n",
       "    }\n",
       "</style>\n",
       "<table border=\"1\" class=\"dataframe\">\n",
       "  <thead>\n",
       "    <tr style=\"text-align: right;\">\n",
       "      <th></th>\n",
       "      <th>file</th>\n",
       "      <th>type</th>\n",
       "      <th>freq</th>\n",
       "      <th>detune</th>\n",
       "      <th>level</th>\n",
       "    </tr>\n",
       "  </thead>\n",
       "  <tbody>\n",
       "    <tr>\n",
       "      <th>0</th>\n",
       "      <td>0000.wav</td>\n",
       "      <td>0</td>\n",
       "      <td>30.0</td>\n",
       "      <td>0.0</td>\n",
       "      <td>1.0</td>\n",
       "    </tr>\n",
       "    <tr>\n",
       "      <th>1</th>\n",
       "      <td>0001.wav</td>\n",
       "      <td>0</td>\n",
       "      <td>30.0</td>\n",
       "      <td>0.0</td>\n",
       "      <td>12.0</td>\n",
       "    </tr>\n",
       "    <tr>\n",
       "      <th>2</th>\n",
       "      <td>0002.wav</td>\n",
       "      <td>0</td>\n",
       "      <td>30.0</td>\n",
       "      <td>0.0</td>\n",
       "      <td>23.0</td>\n",
       "    </tr>\n",
       "    <tr>\n",
       "      <th>3</th>\n",
       "      <td>0003.wav</td>\n",
       "      <td>0</td>\n",
       "      <td>30.0</td>\n",
       "      <td>0.0</td>\n",
       "      <td>34.0</td>\n",
       "    </tr>\n",
       "    <tr>\n",
       "      <th>4</th>\n",
       "      <td>0004.wav</td>\n",
       "      <td>0</td>\n",
       "      <td>30.0</td>\n",
       "      <td>0.0</td>\n",
       "      <td>45.0</td>\n",
       "    </tr>\n",
       "  </tbody>\n",
       "</table>\n",
       "</div>"
      ],
      "text/plain": [
       "       file  type  freq  detune  level\n",
       "0  0000.wav     0  30.0     0.0    1.0\n",
       "1  0001.wav     0  30.0     0.0   12.0\n",
       "2  0002.wav     0  30.0     0.0   23.0\n",
       "3  0003.wav     0  30.0     0.0   34.0\n",
       "4  0004.wav     0  30.0     0.0   45.0"
      ]
     },
     "execution_count": 4,
     "metadata": {},
     "output_type": "execute_result"
    }
   ],
   "source": [
    "df = pd.read_csv('metadata.csv')\n",
    "df.head()"
   ]
  },
  {
   "cell_type": "code",
   "execution_count": 5,
   "metadata": {},
   "outputs": [
    {
     "data": {
      "text/plain": [
       "53.333333     400\n",
       "61.111111     400\n",
       "92.222222     400\n",
       "84.444444     400\n",
       "37.777778     400\n",
       "45.555556     400\n",
       "68.888889     400\n",
       "76.666667     400\n",
       "100.000000    400\n",
       "30.000000     400\n",
       "Name: freq, dtype: int64"
      ]
     },
     "execution_count": 5,
     "metadata": {},
     "output_type": "execute_result"
    }
   ],
   "source": [
    "df['freq'].value_counts()"
   ]
  },
  {
   "cell_type": "code",
   "execution_count": 6,
   "metadata": {
    "id": "jAo4zSSQktat"
   },
   "outputs": [],
   "source": [
    "from torch.utils.data import Dataset, DataLoader, random_split\n",
    "import os \n",
    "import pandas as pd\n",
    "\n",
    "class AudioDateset(Dataset):\n",
    "    def __init__(self, data_dir, metadata):\n",
    "        self.data_dir = data_dir\n",
    "        self.data_table = pd.read_csv(metadata)\n",
    "    def __getitem__(self, idx):\n",
    "        # print(list(self.data_table.loc[idx]))\n",
    "        wav_file, wtype, freq, detune, level = list(self.data_table.loc[idx])\n",
    "        path = os.path.join(self.data_dir, wav_file)\n",
    "        wav, sr = torchaudio.load(path)\n",
    "        \n",
    "        wav_proc = torchaudio.transforms.MelSpectrogram(sample_rate=22050, n_mels=64, n_fft=1024, hop_length=256, f_max=8000)\n",
    "        \n",
    "        mel_spectrogram = wav_proc(wav)\n",
    "        \n",
    "        return mel_spectrogram.squeeze(0), torch.Tensor([wtype, freq, detune, level])\n",
    "    \n",
    "    def __len__(self):\n",
    "        length = len(os.listdir(data_path))\n",
    "        return length\n",
    "\n",
    "dataset = AudioDateset(data_path, meta_path)\n",
    "\n",
    "n = len(os.listdir(data_path))\n",
    "k = int(0.75 * n)\n",
    "\n",
    "train_dataset, valid_dataset = random_split(dataset, [k, n - k])\n",
    "\n",
    "train_loader = DataLoader(train_dataset, batch_size=batch_size,\n",
    "                                         shuffle=True, num_workers=8, pin_memory=True)\n",
    "\n",
    "valid_loader = DataLoader(valid_dataset, batch_size=batch_size,\n",
    "                                         shuffle=False, num_workers=8, pin_memory=True)"
   ]
  },
  {
   "cell_type": "code",
   "execution_count": 7,
   "metadata": {
    "id": "RWtE4r5gnlZH"
   },
   "outputs": [],
   "source": [
    "class PabloNet(nn.Module):    \n",
    "    def __init__(self):\n",
    "        super(PabloNet, self).__init__()\n",
    "          \n",
    "        self.layers_conv = nn.Sequential(\n",
    "            nn.Conv1d(64, 64, kernel_size=7, stride=2, padding=1),\n",
    "            nn.BatchNorm1d(64),\n",
    "            nn.ReLU(),\n",
    "            nn.Conv1d(64, 64, kernel_size=7, stride=2, padding=1),\n",
    "            nn.BatchNorm1d(64),\n",
    "            nn.ReLU(),\n",
    "            nn.MaxPool1d(kernel_size=2),\n",
    "            nn.Conv1d(64, 128, kernel_size=5, stride=1, padding=1),\n",
    "            nn.BatchNorm1d(128),\n",
    "            nn.ReLU(),\n",
    "            nn.Conv1d(128, 128, kernel_size=5, stride=1, padding=1),\n",
    "            nn.BatchNorm1d(128),\n",
    "            nn.ReLU(),\n",
    "            nn.MaxPool1d(kernel_size=2),\n",
    "            nn.Conv1d(128, 256, kernel_size=3, stride=1, padding=1),\n",
    "            nn.BatchNorm1d(256),\n",
    "            nn.ReLU(),\n",
    "            nn.Conv1d(256, 256, kernel_size=3, stride=1, padding=1),\n",
    "            nn.BatchNorm1d(256),\n",
    "            nn.ReLU(),\n",
    "            nn.MaxPool1d(kernel_size=2),\n",
    "            nn.Conv1d(256, 256, kernel_size=3, stride=1, padding=1),\n",
    "            nn.BatchNorm1d(256),\n",
    "            nn.ReLU(),\n",
    "            nn.Conv1d(256, 256, kernel_size=3, stride=1, padding=1),\n",
    "            nn.BatchNorm1d(256),\n",
    "            nn.ReLU(),\n",
    "            #nn.AdaptiveAvgPool1d(4)\n",
    "        )\n",
    "        \n",
    "        self.wavetype_head = nn.Sequential(\n",
    "            nn.Linear(5120, 256),\n",
    "            nn.ReLU(),\n",
    "            nn.Linear(256, 4)\n",
    "        )\n",
    "        \n",
    "        self.regression_head = nn.Sequential(\n",
    "            nn.Linear(5120, 256),\n",
    "            nn.ReLU(),\n",
    "            nn.Linear(256, 3)\n",
    "        )\n",
    "        \n",
    "    def forward(self, x):\n",
    "        x = self.layers_conv(x)\n",
    "        x = x.view(x.size(0), -1)\n",
    "        \n",
    "        wavetype = self.wavetype_head(x)\n",
    "        param_vec = self.regression_head(x)\n",
    "                                         \n",
    "        return wavetype, param_vec     \n",
    "    \n",
    "model = PabloNet()\n",
    "\n",
    "model = model.to(device)"
   ]
  },
  {
   "cell_type": "code",
   "execution_count": 8,
   "metadata": {
    "id": "GzpKiIFjnm1G"
   },
   "outputs": [],
   "source": [
    "import torch.optim as optim\n",
    "\n",
    "wavetype_criterion = nn.CrossEntropyLoss()\n",
    "regression_criterion = nn.MSELoss()\n",
    "\n",
    "optimizer = optim.Adam(model.parameters(), lr=0.001)"
   ]
  },
  {
   "cell_type": "code",
   "execution_count": 9,
   "metadata": {
    "colab": {
     "base_uri": "https://localhost:8080/",
     "height": 952
    },
    "id": "CddqQbChn-4V",
    "outputId": "40e8baee-950c-4127-ab53-d5e389d1d6f3"
   },
   "outputs": [],
   "source": [
    "def train(epoch):\n",
    "    model.train() #don't forget to switch between train and eval!\n",
    "    \n",
    "    running_loss = 0.0 #more accurate representation of current loss than loss.item()\n",
    "\n",
    "    for i, (wavs, labels) in enumerate(tqdm(train_loader)):\n",
    "        wavs, labels = wavs.to(device), labels.to(device)\n",
    "        \n",
    "        gt_wavetype = labels[:, 0].type(torch.LongTensor).to(device)\n",
    "        gt_param_vec = labels[:, 1:].to(device)\n",
    "\n",
    "        optimizer.zero_grad()\n",
    "\n",
    "        out_wavetype, out_param_vec = model(wavs)\n",
    "\n",
    "        loss = wavetype_criterion(out_wavetype, gt_wavetype) + regression_criterion(out_param_vec, gt_param_vec)\n",
    "\n",
    "        loss.backward()\n",
    "\n",
    "        optimizer.step()\n",
    "\n",
    "        running_loss += loss.item()\n",
    "\n",
    "        if (i + 1)% 50 == 0:\n",
    "            print('Train Epoch: {} [{}/{} ({:.0f}%)]\\tLoss: {:.6f}'.format(\n",
    "                    epoch, (i+ 1) * len(wavs), len(train_loader.dataset),\n",
    "                    100. * (i + 1) / len(train_loader), running_loss / 50))\n",
    "            \n",
    "            running_loss = 0.0\n",
    "            \n",
    "def evaluate(data_loader):\n",
    "    model.eval() \n",
    "    \n",
    "    running_loss = 0.0\n",
    "    correct = 0\n",
    "    \n",
    "    with torch.no_grad():\n",
    "        for i, (wavs, labels) in enumerate(data_loader):\n",
    "            wavs, labels = wavs.to(device), labels.to(device)\n",
    "\n",
    "            gt_wavetype = labels[:, 0].type(torch.LongTensor).to(device)\n",
    "            gt_param_vec = labels[:, 1:].to(device)\n",
    "\n",
    "            out_wavetype, out_param_vec = model(wavs)\n",
    "\n",
    "            loss = wavetype_criterion(out_wavetype, gt_wavetype) + regression_criterion(out_param_vec, gt_param_vec)\n",
    "            \n",
    "            pred = out_wavetype.data.max(1, keepdim=True)[1]\n",
    "            correct += pred.eq(gt_wavetype.data.view_as(pred)).cpu().sum()\n",
    "            \n",
    "            running_loss += loss.item()\n",
    "            \n",
    "    running_loss /= len(data_loader)\n",
    "        \n",
    "    print('\\nAverage loss: {:.4f}, Accuracy: {}/{} ({:.3f}%)\\n'.format(\n",
    "        running_loss, correct, len(data_loader.dataset),\n",
    "        100. * correct / len(data_loader.dataset)))"
   ]
  },
  {
   "cell_type": "code",
   "execution_count": 10,
   "metadata": {},
   "outputs": [],
   "source": [
    "import warnings\n",
    "warnings.simplefilter(\"ignore\")"
   ]
  },
  {
   "cell_type": "code",
   "execution_count": 11,
   "metadata": {
    "id": "qBeZ4sGn-Pyg"
   },
   "outputs": [
    {
     "data": {
      "application/vnd.jupyter.widget-view+json": {
       "model_id": "06001f37d5ab4945b632438fda25bab5",
       "version_major": 2,
       "version_minor": 0
      },
      "text/plain": [
       "HBox(children=(HTML(value=''), FloatProgress(value=0.0, max=94.0), HTML(value='')))"
      ]
     },
     "metadata": {},
     "output_type": "display_data"
    },
    {
     "name": "stdout",
     "output_type": "stream",
     "text": [
      "Train Epoch: 0 [1600/3000 (53%)]\tLoss: 1040.918577\n",
      "\n",
      "\n",
      "Average loss: 693.5876, Accuracy: 257/1000 (25.700%)\n",
      "\n"
     ]
    },
    {
     "data": {
      "application/vnd.jupyter.widget-view+json": {
       "model_id": "d94c920a0ad54906bf447c7737cd05af",
       "version_major": 2,
       "version_minor": 0
      },
      "text/plain": [
       "HBox(children=(HTML(value=''), FloatProgress(value=0.0, max=94.0), HTML(value='')))"
      ]
     },
     "metadata": {},
     "output_type": "display_data"
    },
    {
     "name": "stdout",
     "output_type": "stream",
     "text": [
      "Train Epoch: 1 [1600/3000 (53%)]\tLoss: 543.697289\n",
      "\n",
      "\n",
      "Average loss: 652.9857, Accuracy: 328/1000 (32.800%)\n",
      "\n"
     ]
    },
    {
     "data": {
      "application/vnd.jupyter.widget-view+json": {
       "model_id": "f9d13457b163472c922ef102061af6f5",
       "version_major": 2,
       "version_minor": 0
      },
      "text/plain": [
       "HBox(children=(HTML(value=''), FloatProgress(value=0.0, max=94.0), HTML(value='')))"
      ]
     },
     "metadata": {},
     "output_type": "display_data"
    },
    {
     "name": "stdout",
     "output_type": "stream",
     "text": [
      "Train Epoch: 2 [1600/3000 (53%)]\tLoss: 574.419050\n",
      "\n",
      "\n",
      "Average loss: 507.2728, Accuracy: 448/1000 (44.800%)\n",
      "\n"
     ]
    },
    {
     "data": {
      "application/vnd.jupyter.widget-view+json": {
       "model_id": "59ad9c1dab0842a6953cab0f03335b09",
       "version_major": 2,
       "version_minor": 0
      },
      "text/plain": [
       "HBox(children=(HTML(value=''), FloatProgress(value=0.0, max=94.0), HTML(value='')))"
      ]
     },
     "metadata": {},
     "output_type": "display_data"
    },
    {
     "name": "stdout",
     "output_type": "stream",
     "text": [
      "Train Epoch: 3 [1600/3000 (53%)]\tLoss: 521.505648\n",
      "\n",
      "\n",
      "Average loss: 623.6809, Accuracy: 330/1000 (33.000%)\n",
      "\n"
     ]
    },
    {
     "data": {
      "application/vnd.jupyter.widget-view+json": {
       "model_id": "9ca322adb9d743fcacbf14c3c5cae643",
       "version_major": 2,
       "version_minor": 0
      },
      "text/plain": [
       "HBox(children=(HTML(value=''), FloatProgress(value=0.0, max=94.0), HTML(value='')))"
      ]
     },
     "metadata": {},
     "output_type": "display_data"
    },
    {
     "name": "stdout",
     "output_type": "stream",
     "text": [
      "Train Epoch: 4 [1600/3000 (53%)]\tLoss: 510.561791\n",
      "\n",
      "\n",
      "Average loss: 453.4178, Accuracy: 447/1000 (44.700%)\n",
      "\n"
     ]
    },
    {
     "data": {
      "application/vnd.jupyter.widget-view+json": {
       "model_id": "c0355f7c58b3451b9bdedcd1af6f0510",
       "version_major": 2,
       "version_minor": 0
      },
      "text/plain": [
       "HBox(children=(HTML(value=''), FloatProgress(value=0.0, max=94.0), HTML(value='')))"
      ]
     },
     "metadata": {},
     "output_type": "display_data"
    },
    {
     "name": "stdout",
     "output_type": "stream",
     "text": [
      "Train Epoch: 5 [1600/3000 (53%)]\tLoss: 503.207834\n",
      "\n",
      "\n",
      "Average loss: 461.5745, Accuracy: 374/1000 (37.400%)\n",
      "\n"
     ]
    },
    {
     "data": {
      "application/vnd.jupyter.widget-view+json": {
       "model_id": "df0002d212b947acbfd9462dc8b6d9f7",
       "version_major": 2,
       "version_minor": 0
      },
      "text/plain": [
       "HBox(children=(HTML(value=''), FloatProgress(value=0.0, max=94.0), HTML(value='')))"
      ]
     },
     "metadata": {},
     "output_type": "display_data"
    },
    {
     "name": "stdout",
     "output_type": "stream",
     "text": [
      "Train Epoch: 6 [1600/3000 (53%)]\tLoss: 489.608799\n",
      "\n",
      "\n",
      "Average loss: 416.4287, Accuracy: 399/1000 (39.900%)\n",
      "\n"
     ]
    },
    {
     "data": {
      "application/vnd.jupyter.widget-view+json": {
       "model_id": "0806f44947b64fb6a426a4d6be44d958",
       "version_major": 2,
       "version_minor": 0
      },
      "text/plain": [
       "HBox(children=(HTML(value=''), FloatProgress(value=0.0, max=94.0), HTML(value='')))"
      ]
     },
     "metadata": {},
     "output_type": "display_data"
    },
    {
     "name": "stdout",
     "output_type": "stream",
     "text": [
      "Train Epoch: 7 [1600/3000 (53%)]\tLoss: 478.902713\n",
      "\n",
      "\n",
      "Average loss: 635.9422, Accuracy: 486/1000 (48.600%)\n",
      "\n"
     ]
    },
    {
     "data": {
      "application/vnd.jupyter.widget-view+json": {
       "model_id": "487be4d874c741ebb580970f4f48c099",
       "version_major": 2,
       "version_minor": 0
      },
      "text/plain": [
       "HBox(children=(HTML(value=''), FloatProgress(value=0.0, max=94.0), HTML(value='')))"
      ]
     },
     "metadata": {},
     "output_type": "display_data"
    },
    {
     "name": "stdout",
     "output_type": "stream",
     "text": [
      "Train Epoch: 8 [1600/3000 (53%)]\tLoss: 446.037841\n",
      "\n",
      "\n",
      "Average loss: 470.5255, Accuracy: 445/1000 (44.500%)\n",
      "\n"
     ]
    },
    {
     "data": {
      "application/vnd.jupyter.widget-view+json": {
       "model_id": "5746ca41584f419d9e7034903b1d655b",
       "version_major": 2,
       "version_minor": 0
      },
      "text/plain": [
       "HBox(children=(HTML(value=''), FloatProgress(value=0.0, max=94.0), HTML(value='')))"
      ]
     },
     "metadata": {},
     "output_type": "display_data"
    },
    {
     "name": "stdout",
     "output_type": "stream",
     "text": [
      "Train Epoch: 9 [1600/3000 (53%)]\tLoss: 462.047424\n",
      "\n",
      "\n",
      "Average loss: 555.9962, Accuracy: 433/1000 (43.300%)\n",
      "\n"
     ]
    },
    {
     "data": {
      "application/vnd.jupyter.widget-view+json": {
       "model_id": "7ec1445da64746e080bd9274168b0a7b",
       "version_major": 2,
       "version_minor": 0
      },
      "text/plain": [
       "HBox(children=(HTML(value=''), FloatProgress(value=0.0, max=94.0), HTML(value='')))"
      ]
     },
     "metadata": {},
     "output_type": "display_data"
    },
    {
     "name": "stdout",
     "output_type": "stream",
     "text": [
      "Train Epoch: 10 [1600/3000 (53%)]\tLoss: 414.678041\n",
      "\n",
      "\n",
      "Average loss: 560.4314, Accuracy: 457/1000 (45.700%)\n",
      "\n"
     ]
    },
    {
     "data": {
      "application/vnd.jupyter.widget-view+json": {
       "model_id": "c06da5177e094db0ab4ba7f2ba7787c5",
       "version_major": 2,
       "version_minor": 0
      },
      "text/plain": [
       "HBox(children=(HTML(value=''), FloatProgress(value=0.0, max=94.0), HTML(value='')))"
      ]
     },
     "metadata": {},
     "output_type": "display_data"
    },
    {
     "name": "stdout",
     "output_type": "stream",
     "text": [
      "Train Epoch: 11 [1600/3000 (53%)]\tLoss: 380.845896\n",
      "\n",
      "\n",
      "Average loss: 468.9714, Accuracy: 437/1000 (43.700%)\n",
      "\n"
     ]
    },
    {
     "data": {
      "application/vnd.jupyter.widget-view+json": {
       "model_id": "364a1846b30e4fbaba78e6a18e827daa",
       "version_major": 2,
       "version_minor": 0
      },
      "text/plain": [
       "HBox(children=(HTML(value=''), FloatProgress(value=0.0, max=94.0), HTML(value='')))"
      ]
     },
     "metadata": {},
     "output_type": "display_data"
    },
    {
     "name": "stdout",
     "output_type": "stream",
     "text": [
      "Train Epoch: 12 [1600/3000 (53%)]\tLoss: 380.421181\n",
      "\n",
      "\n",
      "Average loss: 553.3388, Accuracy: 414/1000 (41.400%)\n",
      "\n"
     ]
    },
    {
     "data": {
      "application/vnd.jupyter.widget-view+json": {
       "model_id": "48b2c03d510d4361bf95215ef0f74c95",
       "version_major": 2,
       "version_minor": 0
      },
      "text/plain": [
       "HBox(children=(HTML(value=''), FloatProgress(value=0.0, max=94.0), HTML(value='')))"
      ]
     },
     "metadata": {},
     "output_type": "display_data"
    },
    {
     "name": "stdout",
     "output_type": "stream",
     "text": [
      "Train Epoch: 13 [1600/3000 (53%)]\tLoss: 359.954179\n",
      "\n",
      "\n",
      "Average loss: 715.5912, Accuracy: 416/1000 (41.600%)\n",
      "\n"
     ]
    },
    {
     "data": {
      "application/vnd.jupyter.widget-view+json": {
       "model_id": "f1670b499890484a80cc62e99b999235",
       "version_major": 2,
       "version_minor": 0
      },
      "text/plain": [
       "HBox(children=(HTML(value=''), FloatProgress(value=0.0, max=94.0), HTML(value='')))"
      ]
     },
     "metadata": {},
     "output_type": "display_data"
    },
    {
     "name": "stdout",
     "output_type": "stream",
     "text": [
      "Train Epoch: 14 [1600/3000 (53%)]\tLoss: 344.590736\n",
      "\n",
      "\n",
      "Average loss: 456.0444, Accuracy: 481/1000 (48.100%)\n",
      "\n"
     ]
    },
    {
     "data": {
      "application/vnd.jupyter.widget-view+json": {
       "model_id": "81444d1469ba4e5992432ba7eb1717f9",
       "version_major": 2,
       "version_minor": 0
      },
      "text/plain": [
       "HBox(children=(HTML(value=''), FloatProgress(value=0.0, max=94.0), HTML(value='')))"
      ]
     },
     "metadata": {},
     "output_type": "display_data"
    },
    {
     "name": "stdout",
     "output_type": "stream",
     "text": [
      "Train Epoch: 15 [1600/3000 (53%)]\tLoss: 319.956598\n",
      "\n",
      "\n",
      "Average loss: 319.9091, Accuracy: 432/1000 (43.200%)\n",
      "\n"
     ]
    },
    {
     "data": {
      "application/vnd.jupyter.widget-view+json": {
       "model_id": "153386b16d81463db0bf2a97a4a61925",
       "version_major": 2,
       "version_minor": 0
      },
      "text/plain": [
       "HBox(children=(HTML(value=''), FloatProgress(value=0.0, max=94.0), HTML(value='')))"
      ]
     },
     "metadata": {},
     "output_type": "display_data"
    },
    {
     "name": "stdout",
     "output_type": "stream",
     "text": [
      "Train Epoch: 16 [1600/3000 (53%)]\tLoss: 297.677335\n",
      "\n",
      "\n",
      "Average loss: 378.5396, Accuracy: 545/1000 (54.500%)\n",
      "\n"
     ]
    },
    {
     "data": {
      "application/vnd.jupyter.widget-view+json": {
       "model_id": "143fdc8d165f403e948eab54b6d9b0bc",
       "version_major": 2,
       "version_minor": 0
      },
      "text/plain": [
       "HBox(children=(HTML(value=''), FloatProgress(value=0.0, max=94.0), HTML(value='')))"
      ]
     },
     "metadata": {},
     "output_type": "display_data"
    },
    {
     "name": "stdout",
     "output_type": "stream",
     "text": [
      "Train Epoch: 17 [1600/3000 (53%)]\tLoss: 299.189398\n",
      "\n",
      "\n",
      "Average loss: 373.0092, Accuracy: 450/1000 (45.000%)\n",
      "\n"
     ]
    },
    {
     "data": {
      "application/vnd.jupyter.widget-view+json": {
       "model_id": "3a23b08fa50b4327929ac2bb0d024404",
       "version_major": 2,
       "version_minor": 0
      },
      "text/plain": [
       "HBox(children=(HTML(value=''), FloatProgress(value=0.0, max=94.0), HTML(value='')))"
      ]
     },
     "metadata": {},
     "output_type": "display_data"
    },
    {
     "name": "stdout",
     "output_type": "stream",
     "text": [
      "Train Epoch: 18 [1600/3000 (53%)]\tLoss: 273.975197\n",
      "\n",
      "\n",
      "Average loss: 218.3077, Accuracy: 512/1000 (51.200%)\n",
      "\n"
     ]
    },
    {
     "data": {
      "application/vnd.jupyter.widget-view+json": {
       "model_id": "8bd107e02f144a80bafb96d6ae2ae4a6",
       "version_major": 2,
       "version_minor": 0
      },
      "text/plain": [
       "HBox(children=(HTML(value=''), FloatProgress(value=0.0, max=94.0), HTML(value='')))"
      ]
     },
     "metadata": {},
     "output_type": "display_data"
    },
    {
     "name": "stdout",
     "output_type": "stream",
     "text": [
      "Train Epoch: 19 [1600/3000 (53%)]\tLoss: 263.900448\n",
      "\n",
      "\n",
      "Average loss: 372.3362, Accuracy: 461/1000 (46.100%)\n",
      "\n"
     ]
    },
    {
     "data": {
      "application/vnd.jupyter.widget-view+json": {
       "model_id": "5a4ad47324e04969ab4e75b796fbc980",
       "version_major": 2,
       "version_minor": 0
      },
      "text/plain": [
       "HBox(children=(HTML(value=''), FloatProgress(value=0.0, max=94.0), HTML(value='')))"
      ]
     },
     "metadata": {},
     "output_type": "display_data"
    },
    {
     "name": "stdout",
     "output_type": "stream",
     "text": [
      "Train Epoch: 20 [1600/3000 (53%)]\tLoss: 256.824868\n",
      "\n",
      "\n",
      "Average loss: 491.1683, Accuracy: 400/1000 (40.000%)\n",
      "\n"
     ]
    },
    {
     "data": {
      "application/vnd.jupyter.widget-view+json": {
       "model_id": "3f2589aac95748ae9ff85654c30f3383",
       "version_major": 2,
       "version_minor": 0
      },
      "text/plain": [
       "HBox(children=(HTML(value=''), FloatProgress(value=0.0, max=94.0), HTML(value='')))"
      ]
     },
     "metadata": {},
     "output_type": "display_data"
    },
    {
     "name": "stdout",
     "output_type": "stream",
     "text": [
      "Train Epoch: 21 [1600/3000 (53%)]\tLoss: 269.454355\n",
      "\n",
      "\n",
      "Average loss: 244.0831, Accuracy: 524/1000 (52.400%)\n",
      "\n"
     ]
    },
    {
     "data": {
      "application/vnd.jupyter.widget-view+json": {
       "model_id": "7579316ffcab4780891268f981194a90",
       "version_major": 2,
       "version_minor": 0
      },
      "text/plain": [
       "HBox(children=(HTML(value=''), FloatProgress(value=0.0, max=94.0), HTML(value='')))"
      ]
     },
     "metadata": {},
     "output_type": "display_data"
    },
    {
     "name": "stdout",
     "output_type": "stream",
     "text": [
      "Train Epoch: 22 [1600/3000 (53%)]\tLoss: 221.263106\n",
      "\n",
      "\n",
      "Average loss: 231.6392, Accuracy: 480/1000 (48.000%)\n",
      "\n"
     ]
    },
    {
     "data": {
      "application/vnd.jupyter.widget-view+json": {
       "model_id": "796235c0a28e4e7dacb38c2f468e0d0a",
       "version_major": 2,
       "version_minor": 0
      },
      "text/plain": [
       "HBox(children=(HTML(value=''), FloatProgress(value=0.0, max=94.0), HTML(value='')))"
      ]
     },
     "metadata": {},
     "output_type": "display_data"
    },
    {
     "name": "stdout",
     "output_type": "stream",
     "text": [
      "Train Epoch: 23 [1600/3000 (53%)]\tLoss: 253.048748\n",
      "\n",
      "\n",
      "Average loss: 220.6114, Accuracy: 517/1000 (51.700%)\n",
      "\n"
     ]
    },
    {
     "data": {
      "application/vnd.jupyter.widget-view+json": {
       "model_id": "1993559f8a744561a97921143e6de7ed",
       "version_major": 2,
       "version_minor": 0
      },
      "text/plain": [
       "HBox(children=(HTML(value=''), FloatProgress(value=0.0, max=94.0), HTML(value='')))"
      ]
     },
     "metadata": {},
     "output_type": "display_data"
    },
    {
     "name": "stdout",
     "output_type": "stream",
     "text": [
      "Train Epoch: 24 [1600/3000 (53%)]\tLoss: 247.360539\n",
      "\n",
      "\n",
      "Average loss: 317.4529, Accuracy: 477/1000 (47.700%)\n",
      "\n"
     ]
    },
    {
     "data": {
      "application/vnd.jupyter.widget-view+json": {
       "model_id": "48545f11fa11417dad3e6a39c46b56c0",
       "version_major": 2,
       "version_minor": 0
      },
      "text/plain": [
       "HBox(children=(HTML(value=''), FloatProgress(value=0.0, max=94.0), HTML(value='')))"
      ]
     },
     "metadata": {},
     "output_type": "display_data"
    },
    {
     "name": "stdout",
     "output_type": "stream",
     "text": [
      "Train Epoch: 25 [1600/3000 (53%)]\tLoss: 244.053904\n",
      "\n",
      "\n",
      "Average loss: 207.9203, Accuracy: 520/1000 (52.000%)\n",
      "\n"
     ]
    },
    {
     "data": {
      "application/vnd.jupyter.widget-view+json": {
       "model_id": "23b21d12c1e74bc7b14eded6635d27cf",
       "version_major": 2,
       "version_minor": 0
      },
      "text/plain": [
       "HBox(children=(HTML(value=''), FloatProgress(value=0.0, max=94.0), HTML(value='')))"
      ]
     },
     "metadata": {},
     "output_type": "display_data"
    },
    {
     "name": "stdout",
     "output_type": "stream",
     "text": [
      "Train Epoch: 26 [1600/3000 (53%)]\tLoss: 242.881451\n",
      "\n",
      "\n",
      "Average loss: 260.5199, Accuracy: 514/1000 (51.400%)\n",
      "\n"
     ]
    },
    {
     "data": {
      "application/vnd.jupyter.widget-view+json": {
       "model_id": "072de5fcefca4d29bcd58a6fb39d6576",
       "version_major": 2,
       "version_minor": 0
      },
      "text/plain": [
       "HBox(children=(HTML(value=''), FloatProgress(value=0.0, max=94.0), HTML(value='')))"
      ]
     },
     "metadata": {},
     "output_type": "display_data"
    },
    {
     "name": "stdout",
     "output_type": "stream",
     "text": [
      "Train Epoch: 27 [1600/3000 (53%)]\tLoss: 221.223318\n",
      "\n",
      "\n",
      "Average loss: 246.6582, Accuracy: 548/1000 (54.800%)\n",
      "\n"
     ]
    },
    {
     "data": {
      "application/vnd.jupyter.widget-view+json": {
       "model_id": "6c642212b85b494cbef41a05da05e40f",
       "version_major": 2,
       "version_minor": 0
      },
      "text/plain": [
       "HBox(children=(HTML(value=''), FloatProgress(value=0.0, max=94.0), HTML(value='')))"
      ]
     },
     "metadata": {},
     "output_type": "display_data"
    },
    {
     "name": "stdout",
     "output_type": "stream",
     "text": [
      "Train Epoch: 28 [1600/3000 (53%)]\tLoss: 243.880900\n",
      "\n",
      "\n",
      "Average loss: 342.4559, Accuracy: 449/1000 (44.900%)\n",
      "\n"
     ]
    },
    {
     "data": {
      "application/vnd.jupyter.widget-view+json": {
       "model_id": "819286e1dde04e429ffd803fafae223d",
       "version_major": 2,
       "version_minor": 0
      },
      "text/plain": [
       "HBox(children=(HTML(value=''), FloatProgress(value=0.0, max=94.0), HTML(value='')))"
      ]
     },
     "metadata": {},
     "output_type": "display_data"
    },
    {
     "name": "stdout",
     "output_type": "stream",
     "text": [
      "Train Epoch: 29 [1600/3000 (53%)]\tLoss: 242.570134\n",
      "\n",
      "\n",
      "Average loss: 182.7814, Accuracy: 533/1000 (53.300%)\n",
      "\n"
     ]
    }
   ],
   "source": [
    "for epoch in range(num_epochs): \n",
    "    train(epoch)\n",
    "    evaluate(valid_loader)"
   ]
  },
  {
   "cell_type": "code",
   "execution_count": 12,
   "metadata": {},
   "outputs": [
    {
     "name": "stdout",
     "output_type": "stream",
     "text": [
      "3 tensor([[48.3045, 81.2175, 55.4030]], device='cuda:0')\n",
      "3.0 tensor([ 45.5556, 100.0000,  12.0000])\n",
      "1 tensor([[69.8770, 52.2266, -0.9066]], device='cuda:0')\n",
      "2.0 tensor([76.6667, 33.3333,  1.0000])\n",
      "2 tensor([[80.3099, 53.0009, 66.6117]], device='cuda:0')\n",
      "2.0 tensor([84.4444, 66.6667, 89.0000])\n",
      "3 tensor([[44.1474, 68.1140, 53.7822]], device='cuda:0')\n",
      "3.0 tensor([45.5556, 66.6667, 23.0000])\n",
      "0 tensor([[90.5629, 17.1914, 82.9355]], device='cuda:0')\n",
      "1.0 tensor([100.0000,  22.2222, 100.0000])\n"
     ]
    }
   ],
   "source": [
    "for idx in range(5):\n",
    "    with torch.no_grad():\n",
    "        out_wavetype, out_param_vec = model(valid_dataset[idx][0].cuda().unsqueeze(0))\n",
    "        print(torch.argmax(out_wavetype).item(), out_param_vec)\n",
    "        print(valid_dataset[idx][1][0].item(), valid_dataset[idx][1][1:])\n"
   ]
  },
  {
   "cell_type": "code",
   "execution_count": null,
   "metadata": {},
   "outputs": [],
   "source": []
  }
 ],
 "metadata": {
  "accelerator": "GPU",
  "colab": {
   "collapsed_sections": [],
   "name": "homework.ipynb",
   "provenance": [],
   "toc_visible": true
  },
  "kernelspec": {
   "display_name": "Python 3",
   "language": "python",
   "name": "python3"
  },
  "language_info": {
   "codemirror_mode": {
    "name": "ipython",
    "version": 3
   },
   "file_extension": ".py",
   "mimetype": "text/x-python",
   "name": "python",
   "nbconvert_exporter": "python",
   "pygments_lexer": "ipython3",
   "version": "3.7.9"
  }
 },
 "nbformat": 4,
 "nbformat_minor": 1
}
